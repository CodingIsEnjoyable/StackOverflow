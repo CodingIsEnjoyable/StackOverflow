{
 "cells": [
  {
   "cell_type": "markdown",
   "metadata": {},
   "source": [
    "#### This was created as a demonstration code for the question on Stack Overflow\n",
    "The original link the for question: \n",
    "https://stackoverflow.com/questions/71350817/python-large-dataframe-calculate-standard-deviation-of-expanding-returns"
   ]
  },
  {
   "cell_type": "markdown",
   "metadata": {},
   "source": [
    "# Import libraries"
   ]
  },
  {
   "cell_type": "code",
   "execution_count": null,
   "metadata": {},
   "outputs": [],
   "source": [
    "import pandas as pd\n",
    "from datetime import datetime\n",
    "import numpy as np"
   ]
  },
  {
   "cell_type": "code",
   "execution_count": 166,
   "metadata": {},
   "outputs": [],
   "source": [
    "import matplotlib.pyplot as plt\n",
    "%matplotlib inline"
   ]
  },
  {
   "cell_type": "markdown",
   "metadata": {},
   "source": [
    "# Generate date range\n",
    "the dates are consitent with the date range specified in the post"
   ]
  },
  {
   "cell_type": "code",
   "execution_count": 41,
   "metadata": {},
   "outputs": [
    {
     "data": {
      "text/plain": [
       "DatetimeIndex(['1986-01-06', '1986-01-07', '1986-01-08', '1986-01-09',\n",
       "               '1986-01-10', '1986-01-11', '1986-01-12', '1986-01-13',\n",
       "               '1986-01-14', '1986-01-15',\n",
       "               ...\n",
       "               '2020-12-22', '2020-12-23', '2020-12-24', '2020-12-25',\n",
       "               '2020-12-26', '2020-12-27', '2020-12-28', '2020-12-29',\n",
       "               '2020-12-30', '2020-12-31'],\n",
       "              dtype='datetime64[ns]', length=12779, freq='D')"
      ]
     },
     "execution_count": 41,
     "metadata": {},
     "output_type": "execute_result"
    }
   ],
   "source": [
    "d_range = pd.date_range(start='01/06/1986', end='12/31/2020', freq='D')\n",
    "d_range"
   ]
  },
  {
   "cell_type": "code",
   "execution_count": 42,
   "metadata": {},
   "outputs": [
    {
     "data": {
      "text/plain": [
       "pandas.core.indexes.datetimes.DatetimeIndex"
      ]
     },
     "execution_count": 42,
     "metadata": {},
     "output_type": "execute_result"
    }
   ],
   "source": [
    "type(d_range)"
   ]
  },
  {
   "cell_type": "markdown",
   "metadata": {},
   "source": [
    "# Generate random stock price "
   ]
  },
  {
   "cell_type": "code",
   "execution_count": 43,
   "metadata": {},
   "outputs": [
    {
     "data": {
      "text/plain": [
       "array([48788, 33359, 39572, ..., 16631, 10961, 44451])"
      ]
     },
     "execution_count": 43,
     "metadata": {},
     "output_type": "execute_result"
    }
   ],
   "source": [
    "price = np.random.randint(10000,93436,size=(len(d_range)))\n",
    "price"
   ]
  },
  {
   "cell_type": "markdown",
   "metadata": {},
   "source": [
    "# Generte Non Time Series DataFrame"
   ]
  },
  {
   "cell_type": "code",
   "execution_count": 170,
   "metadata": {},
   "outputs": [
    {
     "name": "stdout",
     "output_type": "stream",
     "text": [
      "   PERMNO\n",
      "0   48788\n",
      "1   33359\n",
      "2   39572\n",
      "       PERMNO\n",
      "12776   16631\n",
      "12777   10961\n",
      "12778   44451\n"
     ]
    }
   ],
   "source": [
    "df = pd.DataFrame(price, columns=['PERMNO'])\n",
    "df['date'] = d_range\n",
    "print(df.head(3))\n",
    "print(df.tail(3))"
   ]
  },
  {
   "cell_type": "markdown",
   "metadata": {},
   "source": [
    "# Calculate simple daily returns"
   ]
  },
  {
   "cell_type": "code",
   "execution_count": 172,
   "metadata": {},
   "outputs": [
    {
     "name": "stdout",
     "output_type": "stream",
     "text": [
      "   PERMNO       date      RETX\n",
      "0   48788 1986-01-06       NaN\n",
      "1   33359 1986-01-07 -0.316246\n",
      "2   39572 1986-01-08  0.186247\n",
      "       PERMNO       date      RETX\n",
      "12776   16631 2020-12-29 -0.759337\n",
      "12777   10961 2020-12-30 -0.340930\n",
      "12778   44451 2020-12-31  3.055378\n"
     ]
    }
   ],
   "source": [
    "df['RETX'] = df['PERMNO'] / df['PERMNO'].shift(1) - 1\n",
    "print(df.head(3))\n",
    "print(df.tail(3))"
   ]
  },
  {
   "cell_type": "markdown",
   "metadata": {},
   "source": [
    "# Convert to Time Series DataFrame"
   ]
  },
  {
   "cell_type": "code",
   "execution_count": 173,
   "metadata": {},
   "outputs": [
    {
     "name": "stdout",
     "output_type": "stream",
     "text": [
      "            PERMNO       date      RETX\n",
      "date                                   \n",
      "1986-01-06   48788 1986-01-06       NaN\n",
      "1986-01-07   33359 1986-01-07 -0.316246\n",
      "1986-01-08   39572 1986-01-08  0.186247\n",
      "            PERMNO       date      RETX\n",
      "date                                   \n",
      "2020-12-29   16631 2020-12-29 -0.759337\n",
      "2020-12-30   10961 2020-12-30 -0.340930\n",
      "2020-12-31   44451 2020-12-31  3.055378\n"
     ]
    }
   ],
   "source": [
    "df = df.set_index(df['date'])\n",
    "df.drop('date', axis=1, inplace=True)\n",
    "print(df.head(3))\n",
    "print(df.tail(3))"
   ]
  },
  {
   "cell_type": "code",
   "execution_count": 49,
   "metadata": {},
   "outputs": [
    {
     "data": {
      "text/plain": [
       "pandas.core.indexes.datetimes.DatetimeIndex"
      ]
     },
     "execution_count": 49,
     "metadata": {},
     "output_type": "execute_result"
    }
   ],
   "source": [
    "type(df.index)"
   ]
  },
  {
   "cell_type": "markdown",
   "metadata": {},
   "source": [
    "# Calculate standard deviation of daily returns"
   ]
  },
  {
   "cell_type": "markdown",
   "metadata": {},
   "source": [
    "## Jan 2020"
   ]
  },
  {
   "cell_type": "code",
   "execution_count": 175,
   "metadata": {},
   "outputs": [
    {
     "name": "stdout",
     "output_type": "stream",
     "text": [
      "The std for Jan is: 1.341\n"
     ]
    }
   ],
   "source": [
    "std_1 = df['01/01/2020':'01/31/2020']['RETX'].std()\n",
    "print(\"The std for Jan is: {}\".format(round(std_1,3)))"
   ]
  },
  {
   "cell_type": "markdown",
   "metadata": {},
   "source": [
    "## Jan - Feb 2020"
   ]
  },
  {
   "cell_type": "code",
   "execution_count": 176,
   "metadata": {},
   "outputs": [
    {
     "name": "stdout",
     "output_type": "stream",
     "text": [
      "The std for Jan - Feb is: 1.202\n"
     ]
    }
   ],
   "source": [
    "std_2 = df['01/01/2020':'02/29/2020']['RETX'].std()\n",
    "print(\"The std for Jan - Feb is: {}\".format(round(std_2,3)))"
   ]
  },
  {
   "cell_type": "markdown",
   "metadata": {},
   "source": [
    "## ...\n",
    "# Jan - Dec 2020"
   ]
  },
  {
   "cell_type": "code",
   "execution_count": 177,
   "metadata": {},
   "outputs": [
    {
     "name": "stdout",
     "output_type": "stream",
     "text": [
      "The std for Jan - Dec is: 1.382\n"
     ]
    }
   ],
   "source": [
    "std_12 = df['01/01/2020':'12/31/2020']['RETX'].std()\n",
    "print(\"The std for Jan - Dec is: {}\".format(round(std_12,3)))"
   ]
  },
  {
   "cell_type": "markdown",
   "metadata": {},
   "source": [
    "# Play around with groupby() \n",
    "A tutorial on groupby()\n",
    "https://www.youtube.com/watch?v=qy0fDqoMJx8"
   ]
  },
  {
   "cell_type": "code",
   "execution_count": 231,
   "metadata": {},
   "outputs": [
    {
     "name": "stdout",
     "output_type": "stream",
     "text": [
      "             ticker  price    return\n",
      "date                                \n",
      "2020-01-01  ticker1  81663  0.104584\n",
      "2020-01-02  ticker1  34259 -0.580483\n",
      "2020-01-03  ticker1  46575  0.359497\n",
      "             ticker  price    return\n",
      "date                                \n",
      "2020-12-29  ticker1  16631 -0.759337\n",
      "2020-12-30  ticker1  10961 -0.340930\n",
      "2020-12-31  ticker1  44451  3.055378\n"
     ]
    }
   ],
   "source": [
    "# Create three new DataFrames with extra column 'ticker'\n",
    "df1 = df['01/01/2020':'12/31/2020'].copy()\n",
    "df1.rename(columns={'PERMNO':'price', 'RETX':'return'}, inplace=True)\n",
    "df1['ticker'] = 'ticker1'\n",
    "df1 = df1[['ticker', 'price', 'return']]\n",
    "print(df1.head(3))\n",
    "print(df1.tail(3))"
   ]
  },
  {
   "cell_type": "code",
   "execution_count": 234,
   "metadata": {},
   "outputs": [
    {
     "name": "stdout",
     "output_type": "stream",
     "text": [
      "             ticker  price    return\n",
      "date                                \n",
      "2020-01-01  ticker2  19909       NaN\n",
      "2020-01-02  ticker2  21924  0.101211\n",
      "2020-01-03  ticker2  10755 -0.509442\n",
      "             ticker  price    return\n",
      "date                                \n",
      "2020-01-01  ticker3  15985       NaN\n",
      "2020-01-02  ticker3  19753  0.235721\n",
      "2020-01-03  ticker3  29157  0.476080\n"
     ]
    }
   ],
   "source": [
    "df2 = df1.copy()\n",
    "df3 = df1.copy()\n",
    "df2['ticker'] = 'ticker2'\n",
    "df3['ticker'] = 'ticker3'\n",
    "p2 = np.random.randint(10000,35000,size=(len(df1)))\n",
    "p3 = np.random.randint(10000,50000,size=(len(df1)))\n",
    "df2.price = p2\n",
    "df3.price = p3\n",
    "df2['return'] = df2['price'] / df2['price'].shift(1) - 1\n",
    "df3['return'] = df3['price'] / df3['price'].shift(1) - 1\n",
    "print(df2.head(3))\n",
    "print(df3.head(3))"
   ]
  },
  {
   "cell_type": "code",
   "execution_count": 236,
   "metadata": {},
   "outputs": [
    {
     "data": {
      "text/html": [
       "<div>\n",
       "<style scoped>\n",
       "    .dataframe tbody tr th:only-of-type {\n",
       "        vertical-align: middle;\n",
       "    }\n",
       "\n",
       "    .dataframe tbody tr th {\n",
       "        vertical-align: top;\n",
       "    }\n",
       "\n",
       "    .dataframe thead th {\n",
       "        text-align: right;\n",
       "    }\n",
       "</style>\n",
       "<table border=\"1\" class=\"dataframe\">\n",
       "  <thead>\n",
       "    <tr style=\"text-align: right;\">\n",
       "      <th></th>\n",
       "      <th>ticker</th>\n",
       "      <th>price</th>\n",
       "      <th>return</th>\n",
       "    </tr>\n",
       "    <tr>\n",
       "      <th>date</th>\n",
       "      <th></th>\n",
       "      <th></th>\n",
       "      <th></th>\n",
       "    </tr>\n",
       "  </thead>\n",
       "  <tbody>\n",
       "    <tr>\n",
       "      <th>2020-01-01</th>\n",
       "      <td>ticker1</td>\n",
       "      <td>81663</td>\n",
       "      <td>0.104584</td>\n",
       "    </tr>\n",
       "    <tr>\n",
       "      <th>2020-01-02</th>\n",
       "      <td>ticker1</td>\n",
       "      <td>34259</td>\n",
       "      <td>-0.580483</td>\n",
       "    </tr>\n",
       "    <tr>\n",
       "      <th>2020-01-03</th>\n",
       "      <td>ticker1</td>\n",
       "      <td>46575</td>\n",
       "      <td>0.359497</td>\n",
       "    </tr>\n",
       "    <tr>\n",
       "      <th>2020-01-04</th>\n",
       "      <td>ticker1</td>\n",
       "      <td>87814</td>\n",
       "      <td>0.885432</td>\n",
       "    </tr>\n",
       "    <tr>\n",
       "      <th>2020-01-05</th>\n",
       "      <td>ticker1</td>\n",
       "      <td>42853</td>\n",
       "      <td>-0.512003</td>\n",
       "    </tr>\n",
       "    <tr>\n",
       "      <th>...</th>\n",
       "      <td>...</td>\n",
       "      <td>...</td>\n",
       "      <td>...</td>\n",
       "    </tr>\n",
       "    <tr>\n",
       "      <th>2020-12-27</th>\n",
       "      <td>ticker3</td>\n",
       "      <td>44120</td>\n",
       "      <td>1.405540</td>\n",
       "    </tr>\n",
       "    <tr>\n",
       "      <th>2020-12-28</th>\n",
       "      <td>ticker3</td>\n",
       "      <td>19625</td>\n",
       "      <td>-0.555190</td>\n",
       "    </tr>\n",
       "    <tr>\n",
       "      <th>2020-12-29</th>\n",
       "      <td>ticker3</td>\n",
       "      <td>35277</td>\n",
       "      <td>0.797554</td>\n",
       "    </tr>\n",
       "    <tr>\n",
       "      <th>2020-12-30</th>\n",
       "      <td>ticker3</td>\n",
       "      <td>39881</td>\n",
       "      <td>0.130510</td>\n",
       "    </tr>\n",
       "    <tr>\n",
       "      <th>2020-12-31</th>\n",
       "      <td>ticker3</td>\n",
       "      <td>44234</td>\n",
       "      <td>0.109150</td>\n",
       "    </tr>\n",
       "  </tbody>\n",
       "</table>\n",
       "<p>1098 rows × 3 columns</p>\n",
       "</div>"
      ],
      "text/plain": [
       "             ticker  price    return\n",
       "date                                \n",
       "2020-01-01  ticker1  81663  0.104584\n",
       "2020-01-02  ticker1  34259 -0.580483\n",
       "2020-01-03  ticker1  46575  0.359497\n",
       "2020-01-04  ticker1  87814  0.885432\n",
       "2020-01-05  ticker1  42853 -0.512003\n",
       "...             ...    ...       ...\n",
       "2020-12-27  ticker3  44120  1.405540\n",
       "2020-12-28  ticker3  19625 -0.555190\n",
       "2020-12-29  ticker3  35277  0.797554\n",
       "2020-12-30  ticker3  39881  0.130510\n",
       "2020-12-31  ticker3  44234  0.109150\n",
       "\n",
       "[1098 rows x 3 columns]"
      ]
     },
     "execution_count": 236,
     "metadata": {},
     "output_type": "execute_result"
    }
   ],
   "source": [
    "# Join three df together to immitate the data in the post\n",
    "df_tickers = pd.concat([df1, df2, df3])\n",
    "df_tickers"
   ]
  },
  {
   "cell_type": "code",
   "execution_count": 237,
   "metadata": {},
   "outputs": [
    {
     "data": {
      "text/html": [
       "<div>\n",
       "<style scoped>\n",
       "    .dataframe tbody tr th:only-of-type {\n",
       "        vertical-align: middle;\n",
       "    }\n",
       "\n",
       "    .dataframe tbody tr th {\n",
       "        vertical-align: top;\n",
       "    }\n",
       "\n",
       "    .dataframe thead th {\n",
       "        text-align: right;\n",
       "    }\n",
       "</style>\n",
       "<table border=\"1\" class=\"dataframe\">\n",
       "  <thead>\n",
       "    <tr style=\"text-align: right;\">\n",
       "      <th></th>\n",
       "      <th>price</th>\n",
       "      <th>return</th>\n",
       "    </tr>\n",
       "    <tr>\n",
       "      <th>ticker</th>\n",
       "      <th></th>\n",
       "      <th></th>\n",
       "    </tr>\n",
       "  </thead>\n",
       "  <tbody>\n",
       "    <tr>\n",
       "      <th>ticker1</th>\n",
       "      <td>25176.808779</td>\n",
       "      <td>1.381824</td>\n",
       "    </tr>\n",
       "    <tr>\n",
       "      <th>ticker2</th>\n",
       "      <td>7196.767883</td>\n",
       "      <td>0.585509</td>\n",
       "    </tr>\n",
       "    <tr>\n",
       "      <th>ticker3</th>\n",
       "      <td>11418.751754</td>\n",
       "      <td>0.774863</td>\n",
       "    </tr>\n",
       "  </tbody>\n",
       "</table>\n",
       "</div>"
      ],
      "text/plain": [
       "                price    return\n",
       "ticker                         \n",
       "ticker1  25176.808779  1.381824\n",
       "ticker2   7196.767883  0.585509\n",
       "ticker3  11418.751754  0.774863"
      ]
     },
     "execution_count": 237,
     "metadata": {},
     "output_type": "execute_result"
    }
   ],
   "source": [
    "df_tickers.groupby('ticker').std()"
   ]
  },
  {
   "cell_type": "code",
   "execution_count": 238,
   "metadata": {},
   "outputs": [
    {
     "data": {
      "text/html": [
       "<div>\n",
       "<style scoped>\n",
       "    .dataframe tbody tr th:only-of-type {\n",
       "        vertical-align: middle;\n",
       "    }\n",
       "\n",
       "    .dataframe tbody tr th {\n",
       "        vertical-align: top;\n",
       "    }\n",
       "\n",
       "    .dataframe thead tr th {\n",
       "        text-align: left;\n",
       "    }\n",
       "\n",
       "    .dataframe thead tr:last-of-type th {\n",
       "        text-align: right;\n",
       "    }\n",
       "</style>\n",
       "<table border=\"1\" class=\"dataframe\">\n",
       "  <thead>\n",
       "    <tr>\n",
       "      <th></th>\n",
       "      <th colspan=\"6\" halign=\"left\">price</th>\n",
       "      <th colspan=\"6\" halign=\"left\">return</th>\n",
       "    </tr>\n",
       "    <tr>\n",
       "      <th></th>\n",
       "      <th>count</th>\n",
       "      <th>min</th>\n",
       "      <th>max</th>\n",
       "      <th>mean</th>\n",
       "      <th>std</th>\n",
       "      <th>var</th>\n",
       "      <th>count</th>\n",
       "      <th>min</th>\n",
       "      <th>max</th>\n",
       "      <th>mean</th>\n",
       "      <th>std</th>\n",
       "      <th>var</th>\n",
       "    </tr>\n",
       "    <tr>\n",
       "      <th>ticker</th>\n",
       "      <th></th>\n",
       "      <th></th>\n",
       "      <th></th>\n",
       "      <th></th>\n",
       "      <th></th>\n",
       "      <th></th>\n",
       "      <th></th>\n",
       "      <th></th>\n",
       "      <th></th>\n",
       "      <th></th>\n",
       "      <th></th>\n",
       "      <th></th>\n",
       "    </tr>\n",
       "  </thead>\n",
       "  <tbody>\n",
       "    <tr>\n",
       "      <th>ticker1</th>\n",
       "      <td>366</td>\n",
       "      <td>10157</td>\n",
       "      <td>92947</td>\n",
       "      <td>50046.027322</td>\n",
       "      <td>25176.808779</td>\n",
       "      <td>6.338717e+08</td>\n",
       "      <td>366</td>\n",
       "      <td>-0.879002</td>\n",
       "      <td>6.861544</td>\n",
       "      <td>0.447233</td>\n",
       "      <td>1.381824</td>\n",
       "      <td>1.909437</td>\n",
       "    </tr>\n",
       "    <tr>\n",
       "      <th>ticker2</th>\n",
       "      <td>366</td>\n",
       "      <td>10001</td>\n",
       "      <td>34874</td>\n",
       "      <td>22528.207650</td>\n",
       "      <td>7196.767883</td>\n",
       "      <td>5.179347e+07</td>\n",
       "      <td>365</td>\n",
       "      <td>-0.687843</td>\n",
       "      <td>2.429068</td>\n",
       "      <td>0.127869</td>\n",
       "      <td>0.585509</td>\n",
       "      <td>0.342820</td>\n",
       "    </tr>\n",
       "    <tr>\n",
       "      <th>ticker3</th>\n",
       "      <td>366</td>\n",
       "      <td>10073</td>\n",
       "      <td>49961</td>\n",
       "      <td>29311.510929</td>\n",
       "      <td>11418.751754</td>\n",
       "      <td>1.303879e+08</td>\n",
       "      <td>365</td>\n",
       "      <td>-0.791458</td>\n",
       "      <td>3.470925</td>\n",
       "      <td>0.207575</td>\n",
       "      <td>0.774863</td>\n",
       "      <td>0.600413</td>\n",
       "    </tr>\n",
       "  </tbody>\n",
       "</table>\n",
       "</div>"
      ],
      "text/plain": [
       "        price                                                         return  \\\n",
       "        count    min    max          mean           std           var  count   \n",
       "ticker                                                                         \n",
       "ticker1   366  10157  92947  50046.027322  25176.808779  6.338717e+08    366   \n",
       "ticker2   366  10001  34874  22528.207650   7196.767883  5.179347e+07    365   \n",
       "ticker3   366  10073  49961  29311.510929  11418.751754  1.303879e+08    365   \n",
       "\n",
       "                                                           \n",
       "              min       max      mean       std       var  \n",
       "ticker                                                     \n",
       "ticker1 -0.879002  6.861544  0.447233  1.381824  1.909437  \n",
       "ticker2 -0.687843  2.429068  0.127869  0.585509  0.342820  \n",
       "ticker3 -0.791458  3.470925  0.207575  0.774863  0.600413  "
      ]
     },
     "execution_count": 238,
     "metadata": {},
     "output_type": "execute_result"
    }
   ],
   "source": [
    "df_tickers.groupby('ticker').agg(['count','min','max','mean','std','var'])"
   ]
  },
  {
   "cell_type": "code",
   "execution_count": 239,
   "metadata": {},
   "outputs": [
    {
     "data": {
      "text/plain": [
       "<AxesSubplot:xlabel='ticker'>"
      ]
     },
     "execution_count": 239,
     "metadata": {},
     "output_type": "execute_result"
    },
    {
     "data": {
      "image/png": "[encoded data removed]",
      "text/plain": [
       "<Figure size 432x288 with 1 Axes>"
      ]
     },
     "metadata": {
      "needs_background": "light"
     },
     "output_type": "display_data"
    }
   ],
   "source": [
    "df_tickers.groupby('ticker')['return'].mean().plot(kind='bar')"
   ]
  },
  {
   "cell_type": "code",
   "execution_count": 240,
   "metadata": {},
   "outputs": [
    {
     "data": {
      "text/plain": [
       "<AxesSubplot:xlabel='ticker'>"
      ]
     },
     "execution_count": 240,
     "metadata": {},
     "output_type": "execute_result"
    },
    {
     "data": {
      "image/png": "[encoded data removed]",
      "text/plain": [
       "<Figure size 432x288 with 1 Axes>"
      ]
     },
     "metadata": {
      "needs_background": "light"
     },
     "output_type": "display_data"
    }
   ],
   "source": [
    "df_tickers.groupby('ticker')['return'].agg(['min','max','mean','std','var']).plot(kind='bar')"
   ]
  },
  {
   "cell_type": "markdown",
   "metadata": {},
   "source": [
    "# Play around with append()\n",
    "An answer explains differences between append() and concat()\n",
    "https://stackoverflow.com/questions/15819050/pandas-dataframe-concat-vs-append/48168086#48168086\n",
    "\n",
    "\"One more thing you have to keep in mind that the APPEND() method in Pandas doesn't modify the original object. Instead it creates a new one with combined data. Because of involving creation and data buffer, its performance is not well. You'd better use CONCAT() function when doing multi-APPEND operations.\""
   ]
  },
  {
   "cell_type": "code",
   "execution_count": 246,
   "metadata": {},
   "outputs": [
    {
     "data": {
      "text/html": [
       "<div>\n",
       "<style scoped>\n",
       "    .dataframe tbody tr th:only-of-type {\n",
       "        vertical-align: middle;\n",
       "    }\n",
       "\n",
       "    .dataframe tbody tr th {\n",
       "        vertical-align: top;\n",
       "    }\n",
       "\n",
       "    .dataframe thead th {\n",
       "        text-align: right;\n",
       "    }\n",
       "</style>\n",
       "<table border=\"1\" class=\"dataframe\">\n",
       "  <thead>\n",
       "    <tr style=\"text-align: right;\">\n",
       "      <th></th>\n",
       "      <th>ticker</th>\n",
       "      <th>price</th>\n",
       "      <th>return</th>\n",
       "    </tr>\n",
       "    <tr>\n",
       "      <th>date</th>\n",
       "      <th></th>\n",
       "      <th></th>\n",
       "      <th></th>\n",
       "    </tr>\n",
       "  </thead>\n",
       "  <tbody>\n",
       "    <tr>\n",
       "      <th>2020-01-01</th>\n",
       "      <td>ticker1</td>\n",
       "      <td>81663</td>\n",
       "      <td>0.104584</td>\n",
       "    </tr>\n",
       "    <tr>\n",
       "      <th>2020-01-02</th>\n",
       "      <td>ticker1</td>\n",
       "      <td>34259</td>\n",
       "      <td>-0.580483</td>\n",
       "    </tr>\n",
       "    <tr>\n",
       "      <th>2020-01-03</th>\n",
       "      <td>ticker1</td>\n",
       "      <td>46575</td>\n",
       "      <td>0.359497</td>\n",
       "    </tr>\n",
       "    <tr>\n",
       "      <th>2020-01-04</th>\n",
       "      <td>ticker1</td>\n",
       "      <td>87814</td>\n",
       "      <td>0.885432</td>\n",
       "    </tr>\n",
       "    <tr>\n",
       "      <th>2020-01-05</th>\n",
       "      <td>ticker1</td>\n",
       "      <td>42853</td>\n",
       "      <td>-0.512003</td>\n",
       "    </tr>\n",
       "    <tr>\n",
       "      <th>...</th>\n",
       "      <td>...</td>\n",
       "      <td>...</td>\n",
       "      <td>...</td>\n",
       "    </tr>\n",
       "    <tr>\n",
       "      <th>2020-12-27</th>\n",
       "      <td>ticker2</td>\n",
       "      <td>11712</td>\n",
       "      <td>-0.360699</td>\n",
       "    </tr>\n",
       "    <tr>\n",
       "      <th>2020-12-28</th>\n",
       "      <td>ticker2</td>\n",
       "      <td>24608</td>\n",
       "      <td>1.101093</td>\n",
       "    </tr>\n",
       "    <tr>\n",
       "      <th>2020-12-29</th>\n",
       "      <td>ticker2</td>\n",
       "      <td>33130</td>\n",
       "      <td>0.346310</td>\n",
       "    </tr>\n",
       "    <tr>\n",
       "      <th>2020-12-30</th>\n",
       "      <td>ticker2</td>\n",
       "      <td>33002</td>\n",
       "      <td>-0.003864</td>\n",
       "    </tr>\n",
       "    <tr>\n",
       "      <th>2020-12-31</th>\n",
       "      <td>ticker2</td>\n",
       "      <td>20827</td>\n",
       "      <td>-0.368917</td>\n",
       "    </tr>\n",
       "  </tbody>\n",
       "</table>\n",
       "<p>732 rows × 3 columns</p>\n",
       "</div>"
      ],
      "text/plain": [
       "             ticker  price    return\n",
       "date                                \n",
       "2020-01-01  ticker1  81663  0.104584\n",
       "2020-01-02  ticker1  34259 -0.580483\n",
       "2020-01-03  ticker1  46575  0.359497\n",
       "2020-01-04  ticker1  87814  0.885432\n",
       "2020-01-05  ticker1  42853 -0.512003\n",
       "...             ...    ...       ...\n",
       "2020-12-27  ticker2  11712 -0.360699\n",
       "2020-12-28  ticker2  24608  1.101093\n",
       "2020-12-29  ticker2  33130  0.346310\n",
       "2020-12-30  ticker2  33002 -0.003864\n",
       "2020-12-31  ticker2  20827 -0.368917\n",
       "\n",
       "[732 rows x 3 columns]"
      ]
     },
     "execution_count": 246,
     "metadata": {},
     "output_type": "execute_result"
    }
   ],
   "source": [
    "dfs = df1.append(df2)\n",
    "dfs"
   ]
  },
  {
   "cell_type": "code",
   "execution_count": 248,
   "metadata": {},
   "outputs": [
    {
     "data": {
      "text/html": [
       "<div>\n",
       "<style scoped>\n",
       "    .dataframe tbody tr th:only-of-type {\n",
       "        vertical-align: middle;\n",
       "    }\n",
       "\n",
       "    .dataframe tbody tr th {\n",
       "        vertical-align: top;\n",
       "    }\n",
       "\n",
       "    .dataframe thead th {\n",
       "        text-align: right;\n",
       "    }\n",
       "</style>\n",
       "<table border=\"1\" class=\"dataframe\">\n",
       "  <thead>\n",
       "    <tr style=\"text-align: right;\">\n",
       "      <th></th>\n",
       "      <th>ticker</th>\n",
       "      <th>price</th>\n",
       "      <th>return</th>\n",
       "    </tr>\n",
       "    <tr>\n",
       "      <th>date</th>\n",
       "      <th></th>\n",
       "      <th></th>\n",
       "      <th></th>\n",
       "    </tr>\n",
       "  </thead>\n",
       "  <tbody>\n",
       "    <tr>\n",
       "      <th>2020-01-01</th>\n",
       "      <td>ticker1</td>\n",
       "      <td>81663</td>\n",
       "      <td>0.104584</td>\n",
       "    </tr>\n",
       "    <tr>\n",
       "      <th>2020-01-02</th>\n",
       "      <td>ticker1</td>\n",
       "      <td>34259</td>\n",
       "      <td>-0.580483</td>\n",
       "    </tr>\n",
       "    <tr>\n",
       "      <th>2020-01-03</th>\n",
       "      <td>ticker1</td>\n",
       "      <td>46575</td>\n",
       "      <td>0.359497</td>\n",
       "    </tr>\n",
       "    <tr>\n",
       "      <th>2020-01-04</th>\n",
       "      <td>ticker1</td>\n",
       "      <td>87814</td>\n",
       "      <td>0.885432</td>\n",
       "    </tr>\n",
       "    <tr>\n",
       "      <th>2020-01-05</th>\n",
       "      <td>ticker1</td>\n",
       "      <td>42853</td>\n",
       "      <td>-0.512003</td>\n",
       "    </tr>\n",
       "    <tr>\n",
       "      <th>...</th>\n",
       "      <td>...</td>\n",
       "      <td>...</td>\n",
       "      <td>...</td>\n",
       "    </tr>\n",
       "    <tr>\n",
       "      <th>2020-12-27</th>\n",
       "      <td>ticker3</td>\n",
       "      <td>44120</td>\n",
       "      <td>1.405540</td>\n",
       "    </tr>\n",
       "    <tr>\n",
       "      <th>2020-12-28</th>\n",
       "      <td>ticker3</td>\n",
       "      <td>19625</td>\n",
       "      <td>-0.555190</td>\n",
       "    </tr>\n",
       "    <tr>\n",
       "      <th>2020-12-29</th>\n",
       "      <td>ticker3</td>\n",
       "      <td>35277</td>\n",
       "      <td>0.797554</td>\n",
       "    </tr>\n",
       "    <tr>\n",
       "      <th>2020-12-30</th>\n",
       "      <td>ticker3</td>\n",
       "      <td>39881</td>\n",
       "      <td>0.130510</td>\n",
       "    </tr>\n",
       "    <tr>\n",
       "      <th>2020-12-31</th>\n",
       "      <td>ticker3</td>\n",
       "      <td>44234</td>\n",
       "      <td>0.109150</td>\n",
       "    </tr>\n",
       "  </tbody>\n",
       "</table>\n",
       "<p>1098 rows × 3 columns</p>\n",
       "</div>"
      ],
      "text/plain": [
       "             ticker  price    return\n",
       "date                                \n",
       "2020-01-01  ticker1  81663  0.104584\n",
       "2020-01-02  ticker1  34259 -0.580483\n",
       "2020-01-03  ticker1  46575  0.359497\n",
       "2020-01-04  ticker1  87814  0.885432\n",
       "2020-01-05  ticker1  42853 -0.512003\n",
       "...             ...    ...       ...\n",
       "2020-12-27  ticker3  44120  1.405540\n",
       "2020-12-28  ticker3  19625 -0.555190\n",
       "2020-12-29  ticker3  35277  0.797554\n",
       "2020-12-30  ticker3  39881  0.130510\n",
       "2020-12-31  ticker3  44234  0.109150\n",
       "\n",
       "[1098 rows x 3 columns]"
      ]
     },
     "execution_count": 248,
     "metadata": {},
     "output_type": "execute_result"
    }
   ],
   "source": [
    "dfs = dfs.append(df3)\n",
    "dfs"
   ]
  }
 ],
 "metadata": {
  "kernelspec": {
   "display_name": "Python 3",
   "language": "python",
   "name": "python3"
  },
  "language_info": {
   "codemirror_mode": {
    "name": "ipython",
    "version": 3
   },
   "file_extension": ".py",
   "mimetype": "text/x-python",
   "name": "python",
   "nbconvert_exporter": "python",
   "pygments_lexer": "ipython3",
   "version": "3.8.5"
  }
 },
 "nbformat": 4,
 "nbformat_minor": 4
}
